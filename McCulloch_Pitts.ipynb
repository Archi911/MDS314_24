{
  "nbformat": 4,
  "nbformat_minor": 0,
  "metadata": {
    "colab": {
      "provenance": [],
      "authorship_tag": "ABX9TyPQbgu9F1pJtuQ+1HWUotqJ",
      "include_colab_link": true
    },
    "kernelspec": {
      "name": "python3",
      "display_name": "Python 3"
    },
    "language_info": {
      "name": "python"
    }
  },
  "cells": [
    {
      "cell_type": "markdown",
      "metadata": {
        "id": "view-in-github",
        "colab_type": "text"
      },
      "source": [
        "<a href=\"https://colab.research.google.com/github/Archi911/MDS314_24/blob/main/McCulloch_Pitts.ipynb\" target=\"_parent\"><img src=\"https://colab.research.google.com/assets/colab-badge.svg\" alt=\"Open In Colab\"/></a>"
      ]
    },
    {
      "cell_type": "code",
      "execution_count": null,
      "metadata": {
        "id": "eOVIKtgqmpG7"
      },
      "outputs": [],
      "source": [
        "import numpy as np\n",
        "import pandas as pd"
      ]
    },
    {
      "cell_type": "code",
      "source": [
        "# Activation Function\n",
        "def func(x):\n",
        "    if x >= 0:\n",
        "      return 1\n",
        "    else:\n",
        "      return 0"
      ],
      "metadata": {
        "id": "y-iQcfI_m10w"
      },
      "execution_count": 2,
      "outputs": []
    },
    {
      "cell_type": "code",
      "source": [
        "def mpitt(weight, theta, df):\n",
        "    matched = 0\n",
        "    for i in range(len(df)):\n",
        "        X = np.array(df.iloc[i, 0])\n",
        "        y_in = np.dot(X, weight.T) - theta\n",
        "        t_head = func(y_in)\n",
        "        target = df.iloc[i, 1]\n",
        "        if target == t_head:\n",
        "            matched += 1\n",
        "    return matched == len(df)   # returns True if all are correct"
      ],
      "metadata": {
        "id": "HCFf2H2TnF7d"
      },
      "execution_count": 3,
      "outputs": []
    },
    {
      "cell_type": "code",
      "source": [
        "# Calculating weights and theta for different gates\n",
        "truth_tables = {\n",
        "    \"AND\": pd.DataFrame({0: [[0,0],[0,1],[1,0],[1,1]], 1: [0,0,0,1]}),\n",
        "    \"OR\":  pd.DataFrame({0: [[0,0],[0,1],[1,0],[1,1]], 1: [0,1,1,1]}),\n",
        "    \"NAND\": pd.DataFrame({0: [[0,0],[0,1],[1,0],[1,1]], 1: [1,1,1,0]}),\n",
        "    \"NOR\":  pd.DataFrame({0: [[0,0],[0,1],[1,0],[1,1]], 1: [1,0,0,0]})\n",
        "}"
      ],
      "metadata": {
        "id": "cQz4Bozhnpnb"
      },
      "execution_count": 4,
      "outputs": []
    },
    {
      "cell_type": "code",
      "source": [
        "solutions = {}\n",
        "for gate, data in truth_tables.items():\n",
        "    sols = []\n",
        "    for w1 in range(-3, 4):\n",
        "        for w2 in range(-3, 4):\n",
        "            for theta in range(0, 4):\n",
        "                if mpitt(np.array([w1, w2]), theta, data):\n",
        "                    sols.append((w1, w2, theta))\n",
        "    solutions[gate] = sols\n",
        "\n",
        "for gate, sols in solutions.items():\n",
        "    print(f\"\\n{gate} Gate Solutions:\")\n",
        "    if sols:\n",
        "        for (w1, w2, theta) in sols:\n",
        "            print(f\"  w1={w1}, w2={w2}, θ={theta}\")\n",
        "    else:\n",
        "        print(\"  No solution found!\")"
      ],
      "metadata": {
        "colab": {
          "base_uri": "https://localhost:8080/"
        },
        "id": "GxCzCwhVo2ZR",
        "outputId": "876902ae-f312-458f-f73c-490ac86596d5"
      },
      "execution_count": 6,
      "outputs": [
        {
          "output_type": "stream",
          "name": "stdout",
          "text": [
            "\n",
            "AND Gate Solutions:\n",
            "  w1=1, w2=1, θ=2\n",
            "  w1=1, w2=2, θ=3\n",
            "  w1=2, w2=1, θ=3\n",
            "  w1=2, w2=2, θ=3\n",
            "\n",
            "OR Gate Solutions:\n",
            "  w1=1, w2=1, θ=1\n",
            "  w1=1, w2=2, θ=1\n",
            "  w1=1, w2=3, θ=1\n",
            "  w1=2, w2=1, θ=1\n",
            "  w1=2, w2=2, θ=1\n",
            "  w1=2, w2=2, θ=2\n",
            "  w1=2, w2=3, θ=1\n",
            "  w1=2, w2=3, θ=2\n",
            "  w1=3, w2=1, θ=1\n",
            "  w1=3, w2=2, θ=1\n",
            "  w1=3, w2=2, θ=2\n",
            "  w1=3, w2=3, θ=1\n",
            "  w1=3, w2=3, θ=2\n",
            "  w1=3, w2=3, θ=3\n",
            "\n",
            "NAND Gate Solutions:\n",
            "  No solution found!\n",
            "\n",
            "NOR Gate Solutions:\n",
            "  w1=-3, w2=-3, θ=0\n",
            "  w1=-3, w2=-2, θ=0\n",
            "  w1=-3, w2=-1, θ=0\n",
            "  w1=-2, w2=-3, θ=0\n",
            "  w1=-2, w2=-2, θ=0\n",
            "  w1=-2, w2=-1, θ=0\n",
            "  w1=-1, w2=-3, θ=0\n",
            "  w1=-1, w2=-2, θ=0\n",
            "  w1=-1, w2=-1, θ=0\n"
          ]
        }
      ]
    }
  ]
}