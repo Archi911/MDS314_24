{
  "nbformat": 4,
  "nbformat_minor": 0,
  "metadata": {
    "colab": {
      "provenance": [],
      "authorship_tag": "ABX9TyPtXMF0Gdm4hJ371GJ4Tv2F",
      "include_colab_link": true
    },
    "kernelspec": {
      "name": "python3",
      "display_name": "Python 3"
    },
    "language_info": {
      "name": "python"
    }
  },
  "cells": [
    {
      "cell_type": "markdown",
      "metadata": {
        "id": "view-in-github",
        "colab_type": "text"
      },
      "source": [
        "<a href=\"https://colab.research.google.com/github/Archi911/MDS314_24/blob/main/Hebb's_Rule.ipynb\" target=\"_parent\"><img src=\"https://colab.research.google.com/assets/colab-badge.svg\" alt=\"Open In Colab\"/></a>"
      ]
    },
    {
      "cell_type": "code",
      "execution_count": 32,
      "metadata": {
        "id": "CiPzGjL7ql76"
      },
      "outputs": [],
      "source": [
        "# rule used for single layer neural network"
      ]
    },
    {
      "cell_type": "code",
      "source": [
        "import numpy as np\n",
        "import pandas as pd"
      ],
      "metadata": {
        "id": "JflQuvGkr4zv"
      },
      "execution_count": 33,
      "outputs": []
    },
    {
      "cell_type": "code",
      "source": [
        "def hebb_train(inputs, targets):\n",
        "    weights = np.ones(len(inputs[0]) + 1)   # all weights & bias with 1\n",
        "    for x, y in zip(inputs, targets):\n",
        "        x = np.array([1] + list(x))         # add bias input\n",
        "        weights += y * x                    # Hebbian weight update\n",
        "    return weights"
      ],
      "metadata": {
        "id": "HWrcnHLZsfLO"
      },
      "execution_count": 34,
      "outputs": []
    },
    {
      "cell_type": "code",
      "source": [
        "def predict(weights, x, bipolar=True):\n",
        "    x = np.array([1] + list(x))\n",
        "    y_in = np.dot(weights, x)\n",
        "\n",
        "    if bipolar:\n",
        "        return 1 if y_in >= 0 else -1\n",
        "    else:\n",
        "        return 1 if y_in >= 0 else 0"
      ],
      "metadata": {
        "id": "pOhmK-Mtslhu"
      },
      "execution_count": 35,
      "outputs": []
    },
    {
      "cell_type": "code",
      "source": [
        "def run_gate(name, inputs, targets, bipolar=True):\n",
        "    weights = hebb_train(inputs, targets)\n",
        "    print(f\"\\n{name} Gate Weights: {weights}\")\n",
        "    for x in inputs:\n",
        "        print(f\"Input {x} -> Output {predict(weights, x, bipolar)}\")"
      ],
      "metadata": {
        "id": "gCMytgX-zTTx"
      },
      "execution_count": 36,
      "outputs": []
    },
    {
      "cell_type": "code",
      "source": [
        "# Truth tables in bipolar form\n",
        "bipolar_data = [\n",
        "    (\"AND\",  [(-1,-1), (-1,1), (1,-1), (1,1)], [-1,-1,-1, 1]),\n",
        "    (\"OR\",   [(-1,-1), (-1,1), (1,-1), (1,1)], [-1, 1, 1, 1]),\n",
        "    (\"NAND\", [(-1,-1), (-1,1), (1,-1), (1,1)], [ 1, 1, 1,-1]),\n",
        "    (\"NOR\",  [(-1,-1), (-1,1), (1,-1), (1,1)], [ 1,-1,-1,-1])\n",
        "]\n"
      ],
      "metadata": {
        "id": "3iiwYQ3QspBp"
      },
      "execution_count": 37,
      "outputs": []
    },
    {
      "cell_type": "code",
      "source": [
        "# Truth tables in binary form\n",
        "binary_data = [\n",
        "    (\"AND\",  [(0,0), (0,1), (1,0), (1,1)], [0,0,0,1]),\n",
        "    (\"OR\",   [(0,0), (0,1), (1,0), (1,1)], [0,1,1,1]),\n",
        "    (\"NAND\", [(0,0), (0,1), (1,0), (1,1)], [1,1,1,0]),\n",
        "    (\"NOR\",  [(0,0), (0,1), (1,0), (1,1)], [1,0,0,0])\n",
        "]"
      ],
      "metadata": {
        "id": "RhcCZ7Ta0yJJ"
      },
      "execution_count": 38,
      "outputs": []
    },
    {
      "cell_type": "code",
      "source": [
        "# for bipolar data input\n",
        "for name, inputs, targets in bipolar_data:\n",
        "    run_gate(name, inputs, targets, bipolar=True)"
      ],
      "metadata": {
        "colab": {
          "base_uri": "https://localhost:8080/"
        },
        "id": "0ZYpP5YTzwdi",
        "outputId": "b55f1fcd-f3ee-454f-b068-bb5a380e4ec5"
      },
      "execution_count": 39,
      "outputs": [
        {
          "output_type": "stream",
          "name": "stdout",
          "text": [
            "\n",
            "AND Gate Weights: [-1.  3.  3.]\n",
            "Input (-1, -1) -> Output -1\n",
            "Input (-1, 1) -> Output -1\n",
            "Input (1, -1) -> Output -1\n",
            "Input (1, 1) -> Output 1\n",
            "\n",
            "OR Gate Weights: [3. 3. 3.]\n",
            "Input (-1, -1) -> Output -1\n",
            "Input (-1, 1) -> Output 1\n",
            "Input (1, -1) -> Output 1\n",
            "Input (1, 1) -> Output 1\n",
            "\n",
            "NAND Gate Weights: [ 3. -1. -1.]\n",
            "Input (-1, -1) -> Output 1\n",
            "Input (-1, 1) -> Output 1\n",
            "Input (1, -1) -> Output 1\n",
            "Input (1, 1) -> Output 1\n",
            "\n",
            "NOR Gate Weights: [-1. -1. -1.]\n",
            "Input (-1, -1) -> Output 1\n",
            "Input (-1, 1) -> Output -1\n",
            "Input (1, -1) -> Output -1\n",
            "Input (1, 1) -> Output -1\n"
          ]
        }
      ]
    },
    {
      "cell_type": "code",
      "source": [
        "# for binary input\n",
        "for name, inputs, targets in binary_data:\n",
        "    run_gate(name, inputs, targets, bipolar=False)"
      ],
      "metadata": {
        "id": "UYUKOge5_hEK",
        "colab": {
          "base_uri": "https://localhost:8080/"
        },
        "outputId": "8f2cc2db-1f2f-4144-c800-381f5c5384e9"
      },
      "execution_count": 40,
      "outputs": [
        {
          "output_type": "stream",
          "name": "stdout",
          "text": [
            "\n",
            "AND Gate Weights: [2. 2. 2.]\n",
            "Input (0, 0) -> Output 1\n",
            "Input (0, 1) -> Output 1\n",
            "Input (1, 0) -> Output 1\n",
            "Input (1, 1) -> Output 1\n",
            "\n",
            "OR Gate Weights: [4. 3. 3.]\n",
            "Input (0, 0) -> Output 1\n",
            "Input (0, 1) -> Output 1\n",
            "Input (1, 0) -> Output 1\n",
            "Input (1, 1) -> Output 1\n",
            "\n",
            "NAND Gate Weights: [4. 2. 2.]\n",
            "Input (0, 0) -> Output 1\n",
            "Input (0, 1) -> Output 1\n",
            "Input (1, 0) -> Output 1\n",
            "Input (1, 1) -> Output 1\n",
            "\n",
            "NOR Gate Weights: [2. 1. 1.]\n",
            "Input (0, 0) -> Output 1\n",
            "Input (0, 1) -> Output 1\n",
            "Input (1, 0) -> Output 1\n",
            "Input (1, 1) -> Output 1\n"
          ]
        }
      ]
    }
  ]
}