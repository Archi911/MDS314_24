{
  "nbformat": 4,
  "nbformat_minor": 0,
  "metadata": {
    "colab": {
      "provenance": [],
      "authorship_tag": "ABX9TyPXvgB3a2AMThMXGt3EELk+",
      "include_colab_link": true
    },
    "kernelspec": {
      "name": "python3",
      "display_name": "Python 3"
    },
    "language_info": {
      "name": "python"
    }
  },
  "cells": [
    {
      "cell_type": "markdown",
      "metadata": {
        "id": "view-in-github",
        "colab_type": "text"
      },
      "source": [
        "<a href=\"https://colab.research.google.com/github/Archi911/MDS314_24/blob/main/Perceptron.ipynb\" target=\"_parent\"><img src=\"https://colab.research.google.com/assets/colab-badge.svg\" alt=\"Open In Colab\"/></a>"
      ]
    },
    {
      "cell_type": "code",
      "execution_count": 38,
      "metadata": {
        "id": "3ho7To-UvANj"
      },
      "outputs": [],
      "source": [
        "# Perceptron Learning Algorithm Implementation"
      ]
    },
    {
      "cell_type": "code",
      "source": [
        "import numpy as np\n",
        "import pandas as pd"
      ],
      "metadata": {
        "id": "APwyK3Asv_mx"
      },
      "execution_count": 39,
      "outputs": []
    },
    {
      "cell_type": "code",
      "source": [
        "# activation function\n",
        "def func(x):\n",
        "  if x >= 0:\n",
        "    return 1\n",
        "  else:\n",
        "    return -1"
      ],
      "metadata": {
        "id": "1m_05nGhwAi1"
      },
      "execution_count": 40,
      "outputs": []
    },
    {
      "cell_type": "markdown",
      "source": [
        "Perceptron Training"
      ],
      "metadata": {
        "id": "t3q7vDde6X-I"
      }
    },
    {
      "cell_type": "code",
      "source": [
        "def perceptron_train(inputs, targets, epochs=10, alpha=1):\n",
        "    w = np.ones(inputs.shape[1] + 1)  # initialize weights and bias to 1\n",
        "    print(f\"Initial Weights: {w}\")\n",
        "\n",
        "    for epoch in range(epochs):\n",
        "        print(f\"\\nEpoch {epoch+1}\")\n",
        "        for x, t in zip(inputs, targets):\n",
        "            x_aug = np.array([1] + list(x))\n",
        "            net = np.dot(w, x_aug)\n",
        "            y = func(net)\n",
        "\n",
        "            if y != t:\n",
        "                w = w + alpha * t * x_aug\n",
        "\n",
        "            print(f\"Input: {x}, Target: {t}, Output: {y}, Updated Weights: {w}\")\n",
        "\n",
        "    return w"
      ],
      "metadata": {
        "id": "PUXrjkOkwxMs"
      },
      "execution_count": 41,
      "outputs": []
    },
    {
      "cell_type": "code",
      "source": [
        "# Logic gates\n",
        "inputs = np.array([[-1, -1],\n",
        "                   [-1,  1],\n",
        "                   [ 1, -1],\n",
        "                   [ 1,  1]])\n",
        "\n",
        "\n",
        "targets_dict = {\n",
        "    \"AND\":  np.array([-1, -1, -1,  1]),\n",
        "    \"OR\":   np.array([-1,  1,  1,  1]),\n",
        "    \"NAND\": np.array([ 1,  1,  1, -1]),\n",
        "    \"NOR\":  np.array([ 1, -1, -1, -1])\n",
        "}"
      ],
      "metadata": {
        "id": "BNvOcVByxxeE"
      },
      "execution_count": 42,
      "outputs": []
    },
    {
      "cell_type": "code",
      "source": [
        "for gate, targets in targets_dict.items():\n",
        "    print(f\"\\n=== Training for {gate} Gate ===\")\n",
        "    w = perceptron_train(inputs, targets, epochs=5)\n",
        "    print(f\"Final Weights for {gate}: {w}\")\n",
        "    print(\"-\"*50)"
      ],
      "metadata": {
        "colab": {
          "base_uri": "https://localhost:8080/"
        },
        "id": "gqlcOpyNyHym",
        "outputId": "4cd19fa9-33f6-4bb2-c35f-08a318b332e6"
      },
      "execution_count": 43,
      "outputs": [
        {
          "output_type": "stream",
          "name": "stdout",
          "text": [
            "\n",
            "=== Training for AND Gate ===\n",
            "Initial Weights: [1. 1. 1.]\n",
            "\n",
            "Epoch 1\n",
            "Input: [-1 -1], Target: -1, Output: -1, Updated Weights: [1. 1. 1.]\n",
            "Input: [-1  1], Target: -1, Output: 1, Updated Weights: [0. 2. 0.]\n",
            "Input: [ 1 -1], Target: -1, Output: 1, Updated Weights: [-1.  1.  1.]\n",
            "Input: [1 1], Target: 1, Output: 1, Updated Weights: [-1.  1.  1.]\n",
            "\n",
            "Epoch 2\n",
            "Input: [-1 -1], Target: -1, Output: -1, Updated Weights: [-1.  1.  1.]\n",
            "Input: [-1  1], Target: -1, Output: -1, Updated Weights: [-1.  1.  1.]\n",
            "Input: [ 1 -1], Target: -1, Output: -1, Updated Weights: [-1.  1.  1.]\n",
            "Input: [1 1], Target: 1, Output: 1, Updated Weights: [-1.  1.  1.]\n",
            "\n",
            "Epoch 3\n",
            "Input: [-1 -1], Target: -1, Output: -1, Updated Weights: [-1.  1.  1.]\n",
            "Input: [-1  1], Target: -1, Output: -1, Updated Weights: [-1.  1.  1.]\n",
            "Input: [ 1 -1], Target: -1, Output: -1, Updated Weights: [-1.  1.  1.]\n",
            "Input: [1 1], Target: 1, Output: 1, Updated Weights: [-1.  1.  1.]\n",
            "\n",
            "Epoch 4\n",
            "Input: [-1 -1], Target: -1, Output: -1, Updated Weights: [-1.  1.  1.]\n",
            "Input: [-1  1], Target: -1, Output: -1, Updated Weights: [-1.  1.  1.]\n",
            "Input: [ 1 -1], Target: -1, Output: -1, Updated Weights: [-1.  1.  1.]\n",
            "Input: [1 1], Target: 1, Output: 1, Updated Weights: [-1.  1.  1.]\n",
            "\n",
            "Epoch 5\n",
            "Input: [-1 -1], Target: -1, Output: -1, Updated Weights: [-1.  1.  1.]\n",
            "Input: [-1  1], Target: -1, Output: -1, Updated Weights: [-1.  1.  1.]\n",
            "Input: [ 1 -1], Target: -1, Output: -1, Updated Weights: [-1.  1.  1.]\n",
            "Input: [1 1], Target: 1, Output: 1, Updated Weights: [-1.  1.  1.]\n",
            "Final Weights for AND: [-1.  1.  1.]\n",
            "--------------------------------------------------\n",
            "\n",
            "=== Training for OR Gate ===\n",
            "Initial Weights: [1. 1. 1.]\n",
            "\n",
            "Epoch 1\n",
            "Input: [-1 -1], Target: -1, Output: -1, Updated Weights: [1. 1. 1.]\n",
            "Input: [-1  1], Target: 1, Output: 1, Updated Weights: [1. 1. 1.]\n",
            "Input: [ 1 -1], Target: 1, Output: 1, Updated Weights: [1. 1. 1.]\n",
            "Input: [1 1], Target: 1, Output: 1, Updated Weights: [1. 1. 1.]\n",
            "\n",
            "Epoch 2\n",
            "Input: [-1 -1], Target: -1, Output: -1, Updated Weights: [1. 1. 1.]\n",
            "Input: [-1  1], Target: 1, Output: 1, Updated Weights: [1. 1. 1.]\n",
            "Input: [ 1 -1], Target: 1, Output: 1, Updated Weights: [1. 1. 1.]\n",
            "Input: [1 1], Target: 1, Output: 1, Updated Weights: [1. 1. 1.]\n",
            "\n",
            "Epoch 3\n",
            "Input: [-1 -1], Target: -1, Output: -1, Updated Weights: [1. 1. 1.]\n",
            "Input: [-1  1], Target: 1, Output: 1, Updated Weights: [1. 1. 1.]\n",
            "Input: [ 1 -1], Target: 1, Output: 1, Updated Weights: [1. 1. 1.]\n",
            "Input: [1 1], Target: 1, Output: 1, Updated Weights: [1. 1. 1.]\n",
            "\n",
            "Epoch 4\n",
            "Input: [-1 -1], Target: -1, Output: -1, Updated Weights: [1. 1. 1.]\n",
            "Input: [-1  1], Target: 1, Output: 1, Updated Weights: [1. 1. 1.]\n",
            "Input: [ 1 -1], Target: 1, Output: 1, Updated Weights: [1. 1. 1.]\n",
            "Input: [1 1], Target: 1, Output: 1, Updated Weights: [1. 1. 1.]\n",
            "\n",
            "Epoch 5\n",
            "Input: [-1 -1], Target: -1, Output: -1, Updated Weights: [1. 1. 1.]\n",
            "Input: [-1  1], Target: 1, Output: 1, Updated Weights: [1. 1. 1.]\n",
            "Input: [ 1 -1], Target: 1, Output: 1, Updated Weights: [1. 1. 1.]\n",
            "Input: [1 1], Target: 1, Output: 1, Updated Weights: [1. 1. 1.]\n",
            "Final Weights for OR: [1. 1. 1.]\n",
            "--------------------------------------------------\n",
            "\n",
            "=== Training for NAND Gate ===\n",
            "Initial Weights: [1. 1. 1.]\n",
            "\n",
            "Epoch 1\n",
            "Input: [-1 -1], Target: 1, Output: -1, Updated Weights: [2. 0. 0.]\n",
            "Input: [-1  1], Target: 1, Output: 1, Updated Weights: [2. 0. 0.]\n",
            "Input: [ 1 -1], Target: 1, Output: 1, Updated Weights: [2. 0. 0.]\n",
            "Input: [1 1], Target: -1, Output: 1, Updated Weights: [ 1. -1. -1.]\n",
            "\n",
            "Epoch 2\n",
            "Input: [-1 -1], Target: 1, Output: 1, Updated Weights: [ 1. -1. -1.]\n",
            "Input: [-1  1], Target: 1, Output: 1, Updated Weights: [ 1. -1. -1.]\n",
            "Input: [ 1 -1], Target: 1, Output: 1, Updated Weights: [ 1. -1. -1.]\n",
            "Input: [1 1], Target: -1, Output: -1, Updated Weights: [ 1. -1. -1.]\n",
            "\n",
            "Epoch 3\n",
            "Input: [-1 -1], Target: 1, Output: 1, Updated Weights: [ 1. -1. -1.]\n",
            "Input: [-1  1], Target: 1, Output: 1, Updated Weights: [ 1. -1. -1.]\n",
            "Input: [ 1 -1], Target: 1, Output: 1, Updated Weights: [ 1. -1. -1.]\n",
            "Input: [1 1], Target: -1, Output: -1, Updated Weights: [ 1. -1. -1.]\n",
            "\n",
            "Epoch 4\n",
            "Input: [-1 -1], Target: 1, Output: 1, Updated Weights: [ 1. -1. -1.]\n",
            "Input: [-1  1], Target: 1, Output: 1, Updated Weights: [ 1. -1. -1.]\n",
            "Input: [ 1 -1], Target: 1, Output: 1, Updated Weights: [ 1. -1. -1.]\n",
            "Input: [1 1], Target: -1, Output: -1, Updated Weights: [ 1. -1. -1.]\n",
            "\n",
            "Epoch 5\n",
            "Input: [-1 -1], Target: 1, Output: 1, Updated Weights: [ 1. -1. -1.]\n",
            "Input: [-1  1], Target: 1, Output: 1, Updated Weights: [ 1. -1. -1.]\n",
            "Input: [ 1 -1], Target: 1, Output: 1, Updated Weights: [ 1. -1. -1.]\n",
            "Input: [1 1], Target: -1, Output: -1, Updated Weights: [ 1. -1. -1.]\n",
            "Final Weights for NAND: [ 1. -1. -1.]\n",
            "--------------------------------------------------\n",
            "\n",
            "=== Training for NOR Gate ===\n",
            "Initial Weights: [1. 1. 1.]\n",
            "\n",
            "Epoch 1\n",
            "Input: [-1 -1], Target: 1, Output: -1, Updated Weights: [2. 0. 0.]\n",
            "Input: [-1  1], Target: -1, Output: 1, Updated Weights: [ 1.  1. -1.]\n",
            "Input: [ 1 -1], Target: -1, Output: 1, Updated Weights: [0. 0. 0.]\n",
            "Input: [1 1], Target: -1, Output: 1, Updated Weights: [-1. -1. -1.]\n",
            "\n",
            "Epoch 2\n",
            "Input: [-1 -1], Target: 1, Output: 1, Updated Weights: [-1. -1. -1.]\n",
            "Input: [-1  1], Target: -1, Output: -1, Updated Weights: [-1. -1. -1.]\n",
            "Input: [ 1 -1], Target: -1, Output: -1, Updated Weights: [-1. -1. -1.]\n",
            "Input: [1 1], Target: -1, Output: -1, Updated Weights: [-1. -1. -1.]\n",
            "\n",
            "Epoch 3\n",
            "Input: [-1 -1], Target: 1, Output: 1, Updated Weights: [-1. -1. -1.]\n",
            "Input: [-1  1], Target: -1, Output: -1, Updated Weights: [-1. -1. -1.]\n",
            "Input: [ 1 -1], Target: -1, Output: -1, Updated Weights: [-1. -1. -1.]\n",
            "Input: [1 1], Target: -1, Output: -1, Updated Weights: [-1. -1. -1.]\n",
            "\n",
            "Epoch 4\n",
            "Input: [-1 -1], Target: 1, Output: 1, Updated Weights: [-1. -1. -1.]\n",
            "Input: [-1  1], Target: -1, Output: -1, Updated Weights: [-1. -1. -1.]\n",
            "Input: [ 1 -1], Target: -1, Output: -1, Updated Weights: [-1. -1. -1.]\n",
            "Input: [1 1], Target: -1, Output: -1, Updated Weights: [-1. -1. -1.]\n",
            "\n",
            "Epoch 5\n",
            "Input: [-1 -1], Target: 1, Output: 1, Updated Weights: [-1. -1. -1.]\n",
            "Input: [-1  1], Target: -1, Output: -1, Updated Weights: [-1. -1. -1.]\n",
            "Input: [ 1 -1], Target: -1, Output: -1, Updated Weights: [-1. -1. -1.]\n",
            "Input: [1 1], Target: -1, Output: -1, Updated Weights: [-1. -1. -1.]\n",
            "Final Weights for NOR: [-1. -1. -1.]\n",
            "--------------------------------------------------\n"
          ]
        }
      ]
    }
  ]
}