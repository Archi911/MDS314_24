{
  "nbformat": 4,
  "nbformat_minor": 0,
  "metadata": {
    "colab": {
      "provenance": [],
      "authorship_tag": "ABX9TyPhDWeXfsRuFQUe03sDpwa3",
      "include_colab_link": true
    },
    "kernelspec": {
      "name": "python3",
      "display_name": "Python 3"
    },
    "language_info": {
      "name": "python"
    }
  },
  "cells": [
    {
      "cell_type": "markdown",
      "metadata": {
        "id": "view-in-github",
        "colab_type": "text"
      },
      "source": [
        "<a href=\"https://colab.research.google.com/github/Archi911/MDS314_24/blob/main/Adaline.ipynb\" target=\"_parent\"><img src=\"https://colab.research.google.com/assets/colab-badge.svg\" alt=\"Open In Colab\"/></a>"
      ]
    },
    {
      "cell_type": "code",
      "execution_count": 41,
      "metadata": {
        "id": "1WcgvG-2z37J"
      },
      "outputs": [],
      "source": [
        "import numpy as np\n",
        "import pandas as pd"
      ]
    },
    {
      "cell_type": "code",
      "source": [
        "def adaline_train(X, Y, lr=1, epochs=10):\n",
        "    n_features = X.shape[1]\n",
        "    weights = np.zeros(n_features)\n",
        "    bias = 0\n",
        "\n",
        "    for epoch in range(epochs):\n",
        "        total_error = 0\n",
        "        for i in range(len(X)):\n",
        "            x = X[i]\n",
        "            target = Y[i]\n",
        "            y_in = np.dot(x, weights) + bias\n",
        "            error = target - y_in\n",
        "\n",
        "            weights = weights + lr * error * x\n",
        "            bias = bias + lr * error\n",
        "\n",
        "\n",
        "        print(f\"Epoch {epoch+1}: Weights={weights}, Bias={bias}\")\n",
        "\n",
        "    return weights, bias"
      ],
      "metadata": {
        "id": "Htys7nlE0Awb"
      },
      "execution_count": 42,
      "outputs": []
    },
    {
      "cell_type": "code",
      "source": [
        "# X is input and Y is target\n",
        "X = np.array([\n",
        "[1, 1],\n",
        "[1, 0],\n",
        "[0, 1],\n",
        "[0, 0]\n",
        "])\n",
        "gates = {\n",
        "\"AND\": np.array([1, -1, -1, -1]),\n",
        "\"OR\": np.array([1, 1, 1, -1]),\n",
        "\"NAND\": np.array([ -1, 1, 1, 1]),\n",
        "\"NOR\": np.array([ -1, -1, -1, 1])\n",
        "}"
      ],
      "metadata": {
        "id": "CsRlLOCQ0Vxe"
      },
      "execution_count": 43,
      "outputs": []
    },
    {
      "cell_type": "code",
      "source": [
        "print(\"Training Adaline \")\n",
        "for gate_name, y in gates.items():\n",
        "    weights, bias = adaline_train(X, y, lr=1, epochs=10)\n",
        "    print(f\"{gate_name} Gate:\")\n",
        "    print(\" Learned Weights:\", weights)\n",
        "    print(\" Learned Bias:\", bias)\n",
        "    print(\" Target :\", y)\n",
        "    print(\"-\" * 50)"
      ],
      "metadata": {
        "colab": {
          "base_uri": "https://localhost:8080/"
        },
        "id": "DRJxmmLd0YIt",
        "outputId": "cc18a06c-c56d-464e-c339-3d9a726d5a6a"
      },
      "execution_count": 44,
      "outputs": [
        {
          "output_type": "stream",
          "name": "stdout",
          "text": [
            "Training Adaline \n",
            "Epoch 1: Weights=[-2.  1.], Bias=-1.0\n",
            "Epoch 2: Weights=[-3.  1.], Bias=-1.0\n",
            "Epoch 3: Weights=[-4.  1.], Bias=-1.0\n",
            "Epoch 4: Weights=[-5.  1.], Bias=-1.0\n",
            "Epoch 5: Weights=[-6.  1.], Bias=-1.0\n",
            "Epoch 6: Weights=[-7.  1.], Bias=-1.0\n",
            "Epoch 7: Weights=[-8.  1.], Bias=-1.0\n",
            "Epoch 8: Weights=[-9.  1.], Bias=-1.0\n",
            "Epoch 9: Weights=[-10.   1.], Bias=-1.0\n",
            "Epoch 10: Weights=[-11.   1.], Bias=-1.0\n",
            "AND Gate:\n",
            " Learned Weights: [-11.   1.]\n",
            " Learned Bias: -1.0\n",
            " Target : [ 1 -1 -1 -1]\n",
            "--------------------------------------------------\n",
            "Epoch 1: Weights=[0. 1.], Bias=-1.0\n",
            "Epoch 2: Weights=[1. 1.], Bias=-1.0\n",
            "Epoch 3: Weights=[2. 1.], Bias=-1.0\n",
            "Epoch 4: Weights=[3. 1.], Bias=-1.0\n",
            "Epoch 5: Weights=[4. 1.], Bias=-1.0\n",
            "Epoch 6: Weights=[5. 1.], Bias=-1.0\n",
            "Epoch 7: Weights=[6. 1.], Bias=-1.0\n",
            "Epoch 8: Weights=[7. 1.], Bias=-1.0\n",
            "Epoch 9: Weights=[8. 1.], Bias=-1.0\n",
            "Epoch 10: Weights=[9. 1.], Bias=-1.0\n",
            "OR Gate:\n",
            " Learned Weights: [9. 1.]\n",
            " Learned Bias: -1.0\n",
            " Target : [ 1  1  1 -1]\n",
            "--------------------------------------------------\n",
            "Epoch 1: Weights=[ 2. -1.], Bias=1.0\n",
            "Epoch 2: Weights=[ 3. -1.], Bias=1.0\n",
            "Epoch 3: Weights=[ 4. -1.], Bias=1.0\n",
            "Epoch 4: Weights=[ 5. -1.], Bias=1.0\n",
            "Epoch 5: Weights=[ 6. -1.], Bias=1.0\n",
            "Epoch 6: Weights=[ 7. -1.], Bias=1.0\n",
            "Epoch 7: Weights=[ 8. -1.], Bias=1.0\n",
            "Epoch 8: Weights=[ 9. -1.], Bias=1.0\n",
            "Epoch 9: Weights=[10. -1.], Bias=1.0\n",
            "Epoch 10: Weights=[11. -1.], Bias=1.0\n",
            "NAND Gate:\n",
            " Learned Weights: [11. -1.]\n",
            " Learned Bias: 1.0\n",
            " Target : [-1  1  1  1]\n",
            "--------------------------------------------------\n",
            "Epoch 1: Weights=[ 0. -1.], Bias=1.0\n",
            "Epoch 2: Weights=[-1. -1.], Bias=1.0\n",
            "Epoch 3: Weights=[-2. -1.], Bias=1.0\n",
            "Epoch 4: Weights=[-3. -1.], Bias=1.0\n",
            "Epoch 5: Weights=[-4. -1.], Bias=1.0\n",
            "Epoch 6: Weights=[-5. -1.], Bias=1.0\n",
            "Epoch 7: Weights=[-6. -1.], Bias=1.0\n",
            "Epoch 8: Weights=[-7. -1.], Bias=1.0\n",
            "Epoch 9: Weights=[-8. -1.], Bias=1.0\n",
            "Epoch 10: Weights=[-9. -1.], Bias=1.0\n",
            "NOR Gate:\n",
            " Learned Weights: [-9. -1.]\n",
            " Learned Bias: 1.0\n",
            " Target : [-1 -1 -1  1]\n",
            "--------------------------------------------------\n"
          ]
        }
      ]
    },
    {
      "cell_type": "code",
      "source": [],
      "metadata": {
        "id": "acXCiCtm8UIO"
      },
      "execution_count": 44,
      "outputs": []
    }
  ]
}